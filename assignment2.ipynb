{
 "cells": [
  {
   "cell_type": "code",
   "execution_count": 1,
   "id": "b43628d0-b3a2-4e39-a527-5c7f07beb222",
   "metadata": {},
   "outputs": [
    {
     "name": "stdin",
     "output_type": "stream",
     "text": [
      "Enter your marks 67\n"
     ]
    },
    {
     "name": "stdout",
     "output_type": "stream",
     "text": [
      "you score C grade\n"
     ]
    }
   ],
   "source": [
    "# Answer 1\n",
    "\n",
    "marks = int(input('Enter your marks'))\n",
    "if marks > 90 :\n",
    "    print('you score A grade')\n",
    "elif marks > 80 and marks <= 90 :\n",
    "    print('you score B grade')\n",
    "elif marks >= 60 and marks <= 80 :\n",
    "    print('you score C grade')\n",
    "elif marks < 60 :\n",
    "    print('you score D grade')"
   ]
  },
  {
   "cell_type": "code",
   "execution_count": 2,
   "id": "c0ccec9b-2886-43ec-8e94-640ab5541196",
   "metadata": {},
   "outputs": [
    {
     "name": "stdin",
     "output_type": "stream",
     "text": [
      "Price of your bike 78000\n"
     ]
    },
    {
     "name": "stdout",
     "output_type": "stream",
     "text": [
      "you have to pay 10% tax\n"
     ]
    }
   ],
   "source": [
    "# Answer 2\n",
    "\n",
    "price = int(input('Price of your bike'))\n",
    "if price > 100000 :\n",
    "    print('you have to pay 15% tax')\n",
    "elif price > 50000 and price <= 100000 :\n",
    "    print('you have to pay 10% tax')\n",
    "elif price <= 50000 :\n",
    "    print('you have to pay 5% tax')"
   ]
  },
  {
   "cell_type": "code",
   "execution_count": 3,
   "id": "d5683777-9771-4a1b-a42b-d132c843e5d0",
   "metadata": {},
   "outputs": [
    {
     "name": "stdin",
     "output_type": "stream",
     "text": [
      "Enter your city from delhi ,agra, jaipur and get chance to know about monument in that city jaipur\n"
     ]
    },
    {
     "name": "stdout",
     "output_type": "stream",
     "text": [
      "Jal Mahal\n"
     ]
    }
   ],
   "source": [
    "# Answer 3\n",
    "\n",
    "city = input('Enter your city from delhi ,agra, jaipur and get chance to know about monument in that city')\n",
    "if city == 'delhi' : \n",
    "    print('Red Fort')\n",
    "elif city == 'agra' : \n",
    "    print('Taj Mahal')\n",
    "elif city == 'jaipur' : \n",
    "    print('Jal Mahal')"
   ]
  },
  {
   "cell_type": "code",
   "execution_count": 4,
   "id": "0da5bb4a-e129-4d10-9ba6-5e1a72c488c8",
   "metadata": {},
   "outputs": [
    {
     "name": "stdin",
     "output_type": "stream",
     "text": [
      "enter your number :  900\n"
     ]
    },
    {
     "name": "stdout",
     "output_type": "stream",
     "text": [
      "2  \n"
     ]
    }
   ],
   "source": [
    "# # Answer 4\n",
    "\n",
    "num = int(input('enter your number : '))\n",
    "count = 0\n",
    "while num >= 10:\n",
    "    if num % 3 == 0 :\n",
    "        count = count + 1\n",
    "        num = num/3\n",
    "    else :\n",
    "        break\n",
    "print(count, \" \" )"
   ]
  },
  {
   "cell_type": "markdown",
   "id": "72ef7710-c9b3-4d99-bef5-5818e47336a3",
   "metadata": {},
   "source": [
    "# Answer 5\n",
    "\n",
    "While loop is used when we have to print in accordance with the true or false of that condition. \n",
    "If the condition is true then the statements written inside the indentation of the loop are evaluated.\n",
    "If the condition is false then loop takes exit without evaluating any of the statements. \n",
    "It is used when we are not aware of the range of the particular loop and have less idea as to where the loop will stop"
   ]
  },
  {
   "cell_type": "markdown",
   "id": "1f6ed759-8352-4b75-a1fd-b702a3abbce3",
   "metadata": {},
   "source": [
    "example"
   ]
  },
  {
   "cell_type": "code",
   "execution_count": 5,
   "id": "e4327e74-1235-493f-b739-6950eacf73c7",
   "metadata": {},
   "outputs": [
    {
     "name": "stdin",
     "output_type": "stream",
     "text": [
      "enter your number :  8\n"
     ]
    },
    {
     "name": "stdout",
     "output_type": "stream",
     "text": [
      "Sum is :  36\n"
     ]
    }
   ],
   "source": [
    "n = int(input('enter your number : '))\n",
    "starting_point = 0\n",
    "counter = 1\n",
    "\n",
    "while counter <= n :\n",
    "    starting_point = starting_point + counter\n",
    "    counter = counter + 1\n",
    "print('Sum is : ', starting_point)"
   ]
  },
  {
   "cell_type": "code",
   "execution_count": 6,
   "id": "e7dd8929-b369-4cea-9285-23d0fdf5498a",
   "metadata": {},
   "outputs": [
    {
     "name": "stdin",
     "output_type": "stream",
     "text": [
      "Enter No. of Rows :  10\n"
     ]
    },
    {
     "name": "stdout",
     "output_type": "stream",
     "text": [
      "# \n",
      "# # \n",
      "# # # \n",
      "# # # # \n",
      "# # # # # \n",
      "# # # # # # \n",
      "# # # # # # # \n",
      "# # # # # # # # \n",
      "# # # # # # # # # \n",
      "# # # # # # # # # # \n"
     ]
    }
   ],
   "source": [
    "# Answer 6 - NESTED LOOP\n",
    "# Pattern 1\n",
    "\n",
    "n = int(input('Enter No. of Rows : '))\n",
    "i = 1\n",
    "while i <= n :\n",
    "    j = 1\n",
    "    while j <= i :\n",
    "        print('#', end = \" \")\n",
    "        j = j + 1\n",
    "    print()\n",
    "    i = i + 1"
   ]
  },
  {
   "cell_type": "code",
   "execution_count": 7,
   "id": "7528939c-ba6b-4123-a606-bcd7b262944e",
   "metadata": {},
   "outputs": [
    {
     "name": "stdin",
     "output_type": "stream",
     "text": [
      "Enter No. of Rows :  15\n"
     ]
    },
    {
     "name": "stdout",
     "output_type": "stream",
     "text": [
      "# # # # # # # # # # # # # # # \n",
      "# # # # # # # # # # # # # # \n",
      "# # # # # # # # # # # # # \n",
      "# # # # # # # # # # # # \n",
      "# # # # # # # # # # # \n",
      "# # # # # # # # # # \n",
      "# # # # # # # # # \n",
      "# # # # # # # # \n",
      "# # # # # # # \n",
      "# # # # # # \n",
      "# # # # # \n",
      "# # # # \n",
      "# # # \n",
      "# # \n",
      "# \n"
     ]
    }
   ],
   "source": [
    "# Pattern 2\n",
    "\n",
    "n = int(input('Enter No. of Rows : '))\n",
    "i = 1\n",
    "while i <= n :\n",
    "    j = n\n",
    "    while j >= i :\n",
    "        print('#', end = \" \")\n",
    "        j = j - 1\n",
    "    print()\n",
    "    i = i + 1"
   ]
  },
  {
   "cell_type": "code",
   "execution_count": 8,
   "id": "b6b1904d-cbf4-4b8a-87bd-55ed04dc5701",
   "metadata": {},
   "outputs": [
    {
     "name": "stdin",
     "output_type": "stream",
     "text": [
      "Enter No. of Rows :  20\n"
     ]
    },
    {
     "name": "stdout",
     "output_type": "stream",
     "text": [
      "  1 \n",
      "  2   3 \n",
      "  4   5   6 \n",
      "  7   8   9  10 \n",
      " 11  12  13  14  15 \n",
      " 16  17  18  19  20  21 \n",
      " 22  23  24  25  26  27  28 \n",
      " 29  30  31  32  33  34  35  36 \n",
      " 37  38  39  40  41  42  43  44  45 \n",
      " 46  47  48  49  50  51  52  53  54  55 \n",
      " 56  57  58  59  60  61  62  63  64  65  66 \n",
      " 67  68  69  70  71  72  73  74  75  76  77  78 \n",
      " 79  80  81  82  83  84  85  86  87  88  89  90  91 \n",
      " 92  93  94  95  96  97  98  99 100 101 102 103 104 105 \n",
      "106 107 108 109 110 111 112 113 114 115 116 117 118 119 120 \n",
      "121 122 123 124 125 126 127 128 129 130 131 132 133 134 135 136 \n",
      "137 138 139 140 141 142 143 144 145 146 147 148 149 150 151 152 153 \n",
      "154 155 156 157 158 159 160 161 162 163 164 165 166 167 168 169 170 171 \n",
      "172 173 174 175 176 177 178 179 180 181 182 183 184 185 186 187 188 189 190 \n",
      "191 192 193 194 195 196 197 198 199 200 201 202 203 204 205 206 207 208 209 210 \n"
     ]
    }
   ],
   "source": [
    "# Pattern 3\n",
    "\n",
    "n = int(input('Enter No. of Rows : '))\n",
    "i = 1\n",
    "k = 1\n",
    "while i <= n :\n",
    "    j = 1\n",
    "    while j <= i :\n",
    "        print('{:3d}'.format(k), end = \" \")\n",
    "        j = j + 1\n",
    "        k = k + 1\n",
    "    print()\n",
    "    i = i + 1"
   ]
  },
  {
   "cell_type": "code",
   "execution_count": 9,
   "id": "b95cd194-ad8b-40ca-9f2f-68e3e40cc7fd",
   "metadata": {},
   "outputs": [
    {
     "name": "stdout",
     "output_type": "stream",
     "text": [
      "10\n",
      "9\n",
      "8\n",
      "7\n",
      "6\n",
      "5\n",
      "4\n",
      "3\n",
      "2\n",
      "1\n"
     ]
    }
   ],
   "source": [
    "# Answer 7\n",
    "\n",
    "n = 10\n",
    "while n > 0 and n <= 10 :\n",
    "    print(n)\n",
    "    n = n - 1"
   ]
  },
  {
   "cell_type": "code",
   "execution_count": 10,
   "id": "f5a14e90-f72a-45d1-afae-6d7eb9626fd6",
   "metadata": {},
   "outputs": [
    {
     "name": "stdout",
     "output_type": "stream",
     "text": [
      "10\n",
      "9\n",
      "8\n",
      "7\n",
      "6\n",
      "5\n",
      "4\n",
      "3\n",
      "2\n",
      "1\n"
     ]
    }
   ],
   "source": [
    "# Answer 8\n",
    "\n",
    "\n",
    "n = 10\n",
    "while n > 0 and n <= 10 :\n",
    "    print(n)\n",
    "    n = n - 1"
   ]
  },
  {
   "cell_type": "code",
   "execution_count": null,
   "id": "b5f546ee-6f63-4f4c-8a1d-3c18329fc0b4",
   "metadata": {},
   "outputs": [],
   "source": []
  }
 ],
 "metadata": {
  "kernelspec": {
   "display_name": "Python 3 (ipykernel)",
   "language": "python",
   "name": "python3"
  },
  "language_info": {
   "codemirror_mode": {
    "name": "ipython",
    "version": 3
   },
   "file_extension": ".py",
   "mimetype": "text/x-python",
   "name": "python",
   "nbconvert_exporter": "python",
   "pygments_lexer": "ipython3",
   "version": "3.10.8"
  }
 },
 "nbformat": 4,
 "nbformat_minor": 5
}
