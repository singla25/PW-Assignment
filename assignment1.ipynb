{
 "cells": [
  {
   "cell_type": "code",
   "execution_count": null,
   "id": "6c3f8a47-720a-48dd-9c9f-685cf2488281",
   "metadata": {},
   "outputs": [],
   "source": [
    "A1= Guido Van Rossum\n",
    "A2= Object Oriented Programming, Structured Programming, Dynamic Programming\n",
    "A3= Yes\n",
    "A4= .py\n",
    "A5= Interpreted\n",
    "\n",
    "A6= Indentation\n",
    "\n",
    "A7= ## OR #\n",
    "A8= Using sys.version method\n",
    "     Using python_version() function\n",
    "     Using Python -V command.\n",
    "    \n",
    "A9= Lambda \n",
    "\n",
    "A10= 'pip' stands for (Preferred installer program) \n",
    "A11= print() , type() , input() , len()\n",
    "A12= 79 characters\n",
    "A13=  1) It is simple to Use and Understand. For newcomers, Python is simple to understand and use.\n",
    "      2) Free and Open-Source. \n",
    "      3) Productivity has Increased.\n",
    "      4) Interpreted Language. \n",
    "      5) Extensive library.\n",
    "       6) Dynamically Typed\n",
    " \n",
    "A14= Memory management in Python involves a private heap containing all Python objects and data structures. The management of this private heap is ensured internally by the Python memory manager.\n",
    "\n",
    "A15=The complete path of python.exe can be added by:\n",
    "     Right-clicking This PC and going to Properties.\n",
    "     Clicking on the Advanced system settings in the menu on the left.\n",
    "     Clicking on the Environment Variables button on the bottom right.\n",
    "     In the System variables section, selecting the Path variable and clicking on Edit.\n",
    "\n",
    "A16=Yes, indentation is required in python\n",
    "\n"
   ]
  }
 ],
 "metadata": {
  "kernelspec": {
   "display_name": "Python 3 (ipykernel)",
   "language": "python",
   "name": "python3"
  },
  "language_info": {
   "codemirror_mode": {
    "name": "ipython",
    "version": 3
   },
   "file_extension": ".py",
   "mimetype": "text/x-python",
   "name": "python",
   "nbconvert_exporter": "python",
   "pygments_lexer": "ipython3",
   "version": "3.10.8"
  }
 },
 "nbformat": 4,
 "nbformat_minor": 5
}
