{
 "cells": [
  {
   "cell_type": "markdown",
   "id": "ba492a6d-8e6e-4918-916f-64c93daf085d",
   "metadata": {},
   "source": [
    "## Answer 1"
   ]
  },
  {
   "cell_type": "markdown",
   "id": "3f8a062b-ce16-4113-ac41-ff0e465963d8",
   "metadata": {},
   "source": [
    "for loop used to repeatedly execute a block of code for a fixed number of a times\n",
    "Example - using a for loop tp print out number from 0 to 5 : "
   ]
  },
  {
   "cell_type": "code",
   "execution_count": null,
   "id": "848d5479-05e6-41c7-801f-521aff179846",
   "metadata": {},
   "outputs": [],
   "source": [
    "for i in range(0,6) :\n",
    "    print(i)"
   ]
  },
  {
   "cell_type": "markdown",
   "id": "0c497db3-e960-48f8-b402-c62b4c3f7dc1",
   "metadata": {},
   "source": [
    "for loop is also used to iterate over elements in a list :\n",
    "Example : "
   ]
  },
  {
   "cell_type": "code",
   "execution_count": null,
   "id": "0da5bb4a-e129-4d10-9ba6-5e1a72c488c8",
   "metadata": {},
   "outputs": [],
   "source": [
    "l = [1,2,3,4,5,'sahil','singla',89.965,78.98]\n",
    "for i in l :\n",
    "    print(i)"
   ]
  },
  {
   "cell_type": "markdown",
   "id": "d4d5ee23-14a2-49c7-9498-060e8df4246c",
   "metadata": {},
   "source": [
    "while loop is used to repeat a block of code as long as certain condition can't complete\n",
    "Example - "
   ]
  },
  {
   "cell_type": "code",
   "execution_count": 3,
   "id": "990160f7-99f4-45e6-8b05-19d0b9cea6f6",
   "metadata": {},
   "outputs": [
    {
     "name": "stdout",
     "output_type": "stream",
     "text": [
      "1\n",
      "2\n",
      "3\n",
      "4\n",
      "5\n"
     ]
    }
   ],
   "source": [
    "i = 1\n",
    "while i < 6:\n",
    "    print(i)\n",
    "    i += 1"
   ]
  },
  {
   "cell_type": "markdown",
   "id": "d6ea4c11-1b1e-4cd7-bb59-e74cfaa5e12b",
   "metadata": {},
   "source": [
    "## Answer 2"
   ]
  },
  {
   "cell_type": "code",
   "execution_count": 4,
   "id": "e7dd8929-b369-4cea-9285-23d0fdf5498a",
   "metadata": {},
   "outputs": [
    {
     "name": "stdout",
     "output_type": "stream",
     "text": [
      "sum of first 10 natural number is :  55\n",
      "product of first 10 natural number is :  3628800\n"
     ]
    }
   ],
   "source": [
    "sum = 0\n",
    "product = 1\n",
    "for i in range(1,11):\n",
    "    product = product*i\n",
    "    sum = sum+i\n",
    "    \n",
    "print('sum of first 10 natural number is : ', sum)\n",
    "print('product of first 10 natural number is : ', product)"
   ]
  },
  {
   "cell_type": "code",
   "execution_count": 5,
   "id": "7528939c-ba6b-4123-a606-bcd7b262944e",
   "metadata": {},
   "outputs": [
    {
     "name": "stdout",
     "output_type": "stream",
     "text": [
      "sum of first 10 natural number is :  55\n",
      "product of first 10 natural number is :  3628800\n"
     ]
    }
   ],
   "source": [
    "sum = 0\n",
    "product = 1\n",
    "count = 1\n",
    "while count < 11:\n",
    "    sum = sum + count\n",
    "    product = product*count\n",
    "    count = count+1\n",
    "print('sum of first 10 natural number is : ', sum)\n",
    "print('product of first 10 natural number is : ', product)"
   ]
  },
  {
   "cell_type": "markdown",
   "id": "b7dbf424-d9dc-4dee-b343-1efc74ab2265",
   "metadata": {},
   "source": [
    "## Answer 3"
   ]
  },
  {
   "cell_type": "code",
   "execution_count": 10,
   "id": "b95cd194-ad8b-40ca-9f2f-68e3e40cc7fd",
   "metadata": {},
   "outputs": [
    {
     "name": "stdin",
     "output_type": "stream",
     "text": [
      "Number of Units:  67\n"
     ]
    },
    {
     "name": "stdout",
     "output_type": "stream",
     "text": [
      "450.0\n"
     ]
    }
   ],
   "source": [
    "unit = float(input(\"Number of Units: \"))\n",
    "if(unit>0 and unit <=100):\n",
    "    print(float(100*4.5))\n",
    "elif(unit>100 and unit<= 200):\n",
    "    print(float((100*4.5)+(unit-100)*6))\n",
    "elif(unit>200 and unit<=300):\n",
    "    print(float((100*4.5)+(100*6)+(unit-200)*10))\n",
    "elif(unit>300):\n",
    "    print(float((100*4.5)+(100*6)+(100*10)+(unit-300)*20))"
   ]
  },
  {
   "cell_type": "markdown",
   "id": "ec1a77db-c112-4c96-9b0c-3e6669418718",
   "metadata": {},
   "source": [
    "## Answer 4"
   ]
  },
  {
   "cell_type": "code",
   "execution_count": 3,
   "id": "b5f546ee-6f63-4f4c-8a1d-3c18329fc0b4",
   "metadata": {},
   "outputs": [
    {
     "name": "stdout",
     "output_type": "stream",
     "text": [
      "The list of cube of first 100 natural number that are diveded by 4 0r 5 are :  [2, 4, 5, 6, 8, 10, 12, 14, 15, 16, 18, 20, 22, 24, 25, 26, 28, 30, 32, 34, 35, 36, 38, 40, 42, 44, 45, 46, 48, 50, 52, 54, 55, 56, 58, 60, 62, 64, 65, 66, 68, 70, 72, 74, 75, 76, 78, 80, 82, 84, 85, 86, 88, 90, 92, 94, 95, 96, 98, 100] "
     ]
    }
   ],
   "source": [
    "## By using for loop\n",
    "l = []\n",
    "c = []\n",
    "for i in range(1,101) :\n",
    "    l.append(i)\n",
    "    cube = i**3\n",
    "    if(cube%4==0 or cube%5==0):\n",
    "        c.append(i)\n",
    "print('The list of cube of first 100 natural number that are diveded by 4 or 5 are : ',c,end=' ')\n",
    "    "
   ]
  },
  {
   "cell_type": "code",
   "execution_count": 6,
   "id": "18733094-c552-4bb7-9ae4-a3320bf0fd80",
   "metadata": {},
   "outputs": [
    {
     "name": "stdout",
     "output_type": "stream",
     "text": [
      "The list of cube of first 100 natural number that are diveded by 4 or 5 are :  [2, 4, 5, 6, 8, 10, 12, 14, 15, 16, 18, 20, 22, 24, 25, 26, 28, 30, 32, 34, 35, 36, 38, 40, 42, 44, 45, 46, 48, 50, 52, 54, 55, 56, 58, 60, 62, 64, 65, 66, 68, 70, 72, 74, 75, 76, 78, 80, 82, 84, 85, 86, 88, 90, 92, 94, 95, 96, 98, 100] "
     ]
    }
   ],
   "source": [
    "## by using while loop\n",
    "l = []\n",
    "c = []\n",
    "i = 1\n",
    "while(i<=100):\n",
    "    l.append(i)\n",
    "    i = i+1\n",
    "    cube = i**3\n",
    "    if(cube%4==0 or cube%5==0):\n",
    "        c.append(i)\n",
    "print('The list of cube of first 100 natural number that are diveded by 4 or 5 are : ', c , end=' ')\n"
   ]
  },
  {
   "cell_type": "markdown",
   "id": "bfa3ff83-d77e-448b-9050-0e765b101d85",
   "metadata": {},
   "source": [
    "## Answer 5"
   ]
  },
  {
   "cell_type": "code",
   "execution_count": null,
   "id": "5e1e9372-c04a-4a0a-9cd1-eb3eccc500e5",
   "metadata": {},
   "outputs": [],
   "source": [
    "string = \"i want to become a data scientist\"\n",
    "vowels = \"aeiou\"\n",
    "count = 0\n",
    "for i in string:\n",
    "    if(i in vowels):\n",
    "        count = count+1\n",
    "print(\"The No. of vowein string are: \",count)"
   ]
  },
  {
   "cell_type": "code",
   "execution_count": null,
   "id": "66f60a4a-bd02-460e-8092-4d343c0b2b02",
   "metadata": {},
   "outputs": [],
   "source": []
  }
 ],
 "metadata": {
  "kernelspec": {
   "display_name": "Python 3 (ipykernel)",
   "language": "python",
   "name": "python3"
  },
  "language_info": {
   "codemirror_mode": {
    "name": "ipython",
    "version": 3
   },
   "file_extension": ".py",
   "mimetype": "text/x-python",
   "name": "python",
   "nbconvert_exporter": "python",
   "pygments_lexer": "ipython3",
   "version": "3.10.8"
  }
 },
 "nbformat": 4,
 "nbformat_minor": 5
}
